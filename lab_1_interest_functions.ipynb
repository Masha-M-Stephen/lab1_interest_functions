{
  "nbformat": 4,
  "nbformat_minor": 0,
  "metadata": {
    "kernelspec": {
      "display_name": "Python 3",
      "language": "python",
      "name": "python3"
    },
    "language_info": {
      "codemirror_mode": {
        "name": "ipython",
        "version": 3
      },
      "file_extension": ".py",
      "mimetype": "text/x-python",
      "name": "python",
      "nbconvert_exporter": "python",
      "pygments_lexer": "ipython3",
      "version": "3.7.2"
    },
    "colab": {
      "name": "lab_1_interest_functions.ipynb",
      "provenance": [],
      "include_colab_link": true
    }
  },
  "cells": [
    {
      "cell_type": "markdown",
      "metadata": {
        "id": "view-in-github",
        "colab_type": "text"
      },
      "source": [
        "<a href=\"https://colab.research.google.com/github/Masha-M-Stephen/lab1_interest_functions/blob/master/lab_1_interest_functions.ipynb\" target=\"_parent\"><img src=\"https://colab.research.google.com/assets/colab-badge.svg\" alt=\"Open In Colab\"/></a>"
      ]
    },
    {
      "cell_type": "markdown",
      "metadata": {
        "id": "pemEDbtLuXUM",
        "colab_type": "text"
      },
      "source": [
        "## Lab 1 - Compound Interest Functions\n",
        "\n",
        "Below you will find a table of important formulae related to compound interest.  \n",
        "\n",
        "<img src=\"https://www.dummies.com/wp-content/uploads/251689.image0.jpg\" alt=\"image0.jpg\" width=\"400\" height=\"319\">\n",
        "\n",
        "In this lab, you will create functions for each of these using (and documenting) the following workflow.\n",
        "\n",
        "1. Work out the correct answer for a few examples. *Hint* Search for e.g. \"worked out compound interest examples\" on the web.\n",
        "2. Write a `lambda` function and test this function on your test cases.\n",
        "3. Convert the `lambda` function to a `def` statement with an informative doc string that follows the [Google formating rules](https://google.github.io/styleguide/pyguide.html#383-functions-and-methods).\n",
        "4. Write an automated test function (using your previous examples) that will test your `def` statement function each time the code is executed."
      ]
    },
    {
      "cell_type": "markdown",
      "metadata": {
        "id": "wf4EF-8WuXUN",
        "colab_type": "text"
      },
      "source": [
        "#### Problem 1 -- Apply the process to create a simple interest functions."
      ]
    },
    {
      "cell_type": "code",
      "metadata": {
        "id": "penqi2azuXUO",
        "colab_type": "code",
        "colab": {
          "base_uri": "https://localhost:8080/",
          "height": 34
        },
        "outputId": "4c1ff0dc-f53d-4db0-faf1-c8220b7b6edf"
      },
      "source": [
        "#first step, working out the example by hand.\n",
        "p = 4000\n",
        "r = 0.045\n",
        "t = 3\n",
        "\n",
        "simple_interest = p*r*t\n",
        "simple_interest"
      ],
      "execution_count": 4,
      "outputs": [
        {
          "output_type": "execute_result",
          "data": {
            "text/plain": [
              "540.0"
            ]
          },
          "metadata": {
            "tags": []
          },
          "execution_count": 4
        }
      ]
    },
    {
      "cell_type": "code",
      "metadata": {
        "id": "Br358A5jxHIF",
        "colab_type": "code",
        "colab": {
          "base_uri": "https://localhost:8080/",
          "height": 34
        },
        "outputId": "298f0210-42af-4ae3-91e8-75d21f633110"
      },
      "source": [
        "#example 2 by hand\n",
        "p = 5000\n",
        "r = 0.05\n",
        "t = 6\n",
        "\n",
        "simple_interest = p*r*t\n",
        "simple_interest"
      ],
      "execution_count": 7,
      "outputs": [
        {
          "output_type": "execute_result",
          "data": {
            "text/plain": [
              "1500.0"
            ]
          },
          "metadata": {
            "tags": []
          },
          "execution_count": 7
        }
      ]
    },
    {
      "cell_type": "code",
      "metadata": {
        "id": "TQctzI_xwBRy",
        "colab_type": "code",
        "colab": {
          "base_uri": "https://localhost:8080/",
          "height": 34
        },
        "outputId": "63d1b1e4-4d6a-40f4-9534-56fc4c1b0ea7"
      },
      "source": [
        "#writing a lambda function\n",
        "simple_interest = lambda p,r,t: (p*r*t)\n",
        "simple_interest(4000, 0.045, 3)\n"
      ],
      "execution_count": 5,
      "outputs": [
        {
          "output_type": "execute_result",
          "data": {
            "text/plain": [
              "540.0"
            ]
          },
          "metadata": {
            "tags": []
          },
          "execution_count": 5
        }
      ]
    },
    {
      "cell_type": "code",
      "metadata": {
        "id": "OWVeMvo2w5Vn",
        "colab_type": "code",
        "colab": {
          "base_uri": "https://localhost:8080/",
          "height": 34
        },
        "outputId": "480190ea-d0cf-4f72-a07d-5dede7396c34"
      },
      "source": [
        "#second example using lamda\n",
        "simple_interest(5000, 0.05, 6)"
      ],
      "execution_count": 6,
      "outputs": [
        {
          "output_type": "execute_result",
          "data": {
            "text/plain": [
              "1500.0"
            ]
          },
          "metadata": {
            "tags": []
          },
          "execution_count": 6
        }
      ]
    },
    {
      "cell_type": "markdown",
      "metadata": {
        "id": "2JzuCLROxR6w",
        "colab_type": "text"
      },
      "source": [
        "The lambda function produces the same output as the examples that I worked by hand."
      ]
    },
    {
      "cell_type": "code",
      "metadata": {
        "id": "by6-mXBjxchD",
        "colab_type": "code",
        "colab": {}
      },
      "source": [
        "#converting lambda to def function\n",
        "def simple_interest (p, r, t):\n",
        "    output = (p*r*t)\n",
        "    return output\n"
      ],
      "execution_count": null,
      "outputs": []
    },
    {
      "cell_type": "code",
      "metadata": {
        "id": "NGY23YWkxdUF",
        "colab_type": "code",
        "colab": {}
      },
      "source": [
        "#adding a doc string and test cases\n",
        "def simple_interest (p, r, t):\n",
        "    \"\"\"\n",
        "    this function computes simple interest.\n",
        "    p = principal\n",
        "    r = rate (the rate has been converted from a percentage to a normal number)\n",
        "     t = time\n",
        "   \"\"\"\n",
        "    output = (p*r*t)\n",
        "    return output\n",
        "\n",
        "def test_simple_interest():\n",
        "    assert simple_interest(4000, 0.045, 3) == 540.0\n",
        "    assert simple_interest(5000, 0.05, 6) == 1500.0\n",
        "    assert simple_interest(8000, 0.02, 2) == 320.0\n",
        "test_simple_interest() # no output is golden"
      ],
      "execution_count": 10,
      "outputs": []
    },
    {
      "cell_type": "markdown",
      "metadata": {
        "id": "EBmfBSZqziLr",
        "colab_type": "text"
      },
      "source": [
        "The above function works great."
      ]
    },
    {
      "cell_type": "markdown",
      "metadata": {
        "id": "9gZMpI-NuXUU",
        "colab_type": "text"
      },
      "source": [
        "#### Problem 2 -- Apply the process to create a compound interest functions."
      ]
    },
    {
      "cell_type": "code",
      "metadata": {
        "id": "wJudNdjsuXUV",
        "colab_type": "code",
        "colab": {
          "base_uri": "https://localhost:8080/",
          "height": 34
        },
        "outputId": "cf317d98-659e-4bf3-f5bd-247f4b287a36"
      },
      "source": [
        "#firsr step, working an example by hand \n",
        "p = 5000\n",
        "r = 0.05\n",
        "t = 10\n",
        "n = 12\n",
        "\n",
        "amount = round(p * (1 + r/n)**(n*t),2)\n",
        "amount\n"
      ],
      "execution_count": 24,
      "outputs": [
        {
          "output_type": "execute_result",
          "data": {
            "text/plain": [
              "8235.05"
            ]
          },
          "metadata": {
            "tags": []
          },
          "execution_count": 24
        }
      ]
    },
    {
      "cell_type": "code",
      "metadata": {
        "id": "zCbctMha7Hjm",
        "colab_type": "code",
        "colab": {
          "base_uri": "https://localhost:8080/",
          "height": 34
        },
        "outputId": "750211b6-86e4-4850-88e1-9598c91480d1"
      },
      "source": [
        "#second example\n",
        "p = 8000\n",
        "r = 0.025\n",
        "t = 10\n",
        "n = 10\n",
        "\n",
        "amount = round(p * (1 + r/n)**(n*t),2)\n",
        "amount\n"
      ],
      "execution_count": 27,
      "outputs": [
        {
          "output_type": "execute_result",
          "data": {
            "text/plain": [
              "10269.0"
            ]
          },
          "metadata": {
            "tags": []
          },
          "execution_count": 27
        }
      ]
    },
    {
      "cell_type": "code",
      "metadata": {
        "id": "NJ06wtji7fWN",
        "colab_type": "code",
        "colab": {
          "base_uri": "https://localhost:8080/",
          "height": 34
        },
        "outputId": "a2abecdb-17b4-4827-bb55-e92b8db51e1f"
      },
      "source": [
        "#creating a lambda function\n",
        "amount = lambda p,r,t,n : (round(p * (1 + r/n)**(n*t),2))\n",
        "amount(8000, 0.025, 10, 10)"
      ],
      "execution_count": 28,
      "outputs": [
        {
          "output_type": "execute_result",
          "data": {
            "text/plain": [
              "10269.0"
            ]
          },
          "metadata": {
            "tags": []
          },
          "execution_count": 28
        }
      ]
    },
    {
      "cell_type": "code",
      "metadata": {
        "id": "w2w_CBYk74NZ",
        "colab_type": "code",
        "colab": {
          "base_uri": "https://localhost:8080/",
          "height": 34
        },
        "outputId": "3a7129a2-cea8-459d-d8bb-3b2abc263062"
      },
      "source": [
        "#testing it once more\n",
        "amount(5000, 0.05, 10, 12)"
      ],
      "execution_count": 29,
      "outputs": [
        {
          "output_type": "execute_result",
          "data": {
            "text/plain": [
              "8235.05"
            ]
          },
          "metadata": {
            "tags": []
          },
          "execution_count": 29
        }
      ]
    },
    {
      "cell_type": "markdown",
      "metadata": {
        "id": "9rr5VcAH8H-V",
        "colab_type": "text"
      },
      "source": [
        "The lambda function for compound interest works great"
      ]
    },
    {
      "cell_type": "code",
      "metadata": {
        "id": "igy0rsL08PoO",
        "colab_type": "code",
        "colab": {}
      },
      "source": [
        "#converting the lambda function to a def function \n",
        "\n",
        "def amount (p,r,t, n):\n",
        "    output = (round(p * (1 + r/n)**(n*t),2))\n",
        "    return output"
      ],
      "execution_count": 30,
      "outputs": []
    },
    {
      "cell_type": "code",
      "metadata": {
        "id": "S-LEOMzg8sLq",
        "colab_type": "code",
        "colab": {}
      },
      "source": [
        "#adding a doc string and test cases\n",
        "def amount (p,r,t, n):\n",
        "    \"\"\"\n",
        "    this function computes compounf interest\n",
        "    p= principal\n",
        "    r = rate (the rate needs to be in decimals not percentage)\n",
        "    t = time in years\n",
        "    n = compoundinds\n",
        "    \"\"\"\n",
        "    output = (round(p * (1 + r/n)**(n*t),2))\n",
        "    return output\n",
        "\n",
        "def test_amount():\n",
        "    assert amount(5000, 0.05, 10, 12) ==8235.05\n",
        "    assert amount (8000, 0.025, 10,10) ==10269.0\n",
        "test_amount() # no output is golden"
      ],
      "execution_count": 36,
      "outputs": []
    },
    {
      "cell_type": "markdown",
      "metadata": {
        "id": "dlo3JkWx-1Yf",
        "colab_type": "text"
      },
      "source": [
        "The above function works great"
      ]
    },
    {
      "cell_type": "markdown",
      "metadata": {
        "id": "xDIqHgHKuXUZ",
        "colab_type": "text"
      },
      "source": [
        "#### Problem 3 -- Apply the process to create a amortized loan payment function."
      ]
    },
    {
      "cell_type": "code",
      "metadata": {
        "id": "QO4Ba4yfuXUa",
        "colab_type": "code",
        "colab": {}
      },
      "source": [
        "\"Your code here, insert more cells as needed\""
      ],
      "execution_count": null,
      "outputs": []
    },
    {
      "cell_type": "markdown",
      "metadata": {
        "id": "HGlxBA9muXUe",
        "colab_type": "text"
      },
      "source": [
        "#### Problem 4 -- Apply the process to create a remaining balance function"
      ]
    },
    {
      "cell_type": "code",
      "metadata": {
        "id": "HGsFuPEtuXUf",
        "colab_type": "code",
        "colab": {}
      },
      "source": [
        "\"Your code here, insert more cells as needed\""
      ],
      "execution_count": null,
      "outputs": []
    }
  ]
}