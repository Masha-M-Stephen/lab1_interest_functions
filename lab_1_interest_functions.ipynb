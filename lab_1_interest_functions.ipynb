{
  "nbformat": 4,
  "nbformat_minor": 0,
  "metadata": {
    "kernelspec": {
      "display_name": "Python 3",
      "language": "python",
      "name": "python3"
    },
    "language_info": {
      "codemirror_mode": {
        "name": "ipython",
        "version": 3
      },
      "file_extension": ".py",
      "mimetype": "text/x-python",
      "name": "python",
      "nbconvert_exporter": "python",
      "pygments_lexer": "ipython3",
      "version": "3.7.2"
    },
    "colab": {
      "name": "lab_1_interest_functions.ipynb",
      "provenance": [],
      "include_colab_link": true
    }
  },
  "cells": [
    {
      "cell_type": "markdown",
      "metadata": {
        "id": "view-in-github",
        "colab_type": "text"
      },
      "source": [
        "<a href=\"https://colab.research.google.com/github/Masha-M-Stephen/lab1_interest_functions/blob/master/lab_1_interest_functions.ipynb\" target=\"_parent\"><img src=\"https://colab.research.google.com/assets/colab-badge.svg\" alt=\"Open In Colab\"/></a>"
      ]
    },
    {
      "cell_type": "markdown",
      "metadata": {
        "id": "pemEDbtLuXUM",
        "colab_type": "text"
      },
      "source": [
        "## Lab 1 - Compound Interest Functions\n",
        "\n",
        "Below you will find a table of important formulae related to compound interest.  \n",
        "\n",
        "<img src=\"https://www.dummies.com/wp-content/uploads/251689.image0.jpg\" alt=\"image0.jpg\" width=\"400\" height=\"319\">\n",
        "\n",
        "In this lab, you will create functions for each of these using (and documenting) the following workflow.\n",
        "\n",
        "1. Work out the correct answer for a few examples. *Hint* Search for e.g. \"worked out compound interest examples\" on the web.\n",
        "2. Write a `lambda` function and test this function on your test cases.\n",
        "3. Convert the `lambda` function to a `def` statement with an informative doc string that follows the [Google formating rules](https://google.github.io/styleguide/pyguide.html#383-functions-and-methods).\n",
        "4. Write an automated test function (using your previous examples) that will test your `def` statement function each time the code is executed."
      ]
    },
    {
      "cell_type": "markdown",
      "metadata": {
        "id": "wf4EF-8WuXUN",
        "colab_type": "text"
      },
      "source": [
        "#### Problem 1 -- Apply the process to create a simple interest functions."
      ]
    },
    {
      "cell_type": "code",
      "metadata": {
        "id": "penqi2azuXUO",
        "colab_type": "code",
        "colab": {
          "base_uri": "https://localhost:8080/",
          "height": 34
        },
        "outputId": "d535630c-2851-4a5d-a5f0-8784e337cb4a"
      },
      "source": [
        "#first step, working out the example by hand.\n",
        "p = 4000\n",
        "r = 0.045\n",
        "t = 3\n",
        "\n",
        "simple_interest = p*r*t\n",
        "simple_interest"
      ],
      "execution_count": 1,
      "outputs": [
        {
          "output_type": "execute_result",
          "data": {
            "text/plain": [
              "540.0"
            ]
          },
          "metadata": {
            "tags": []
          },
          "execution_count": 1
        }
      ]
    },
    {
      "cell_type": "code",
      "metadata": {
        "id": "Br358A5jxHIF",
        "colab_type": "code",
        "colab": {
          "base_uri": "https://localhost:8080/",
          "height": 34
        },
        "outputId": "d29dfe76-b2c1-4eee-e4ca-32979479eb2a"
      },
      "source": [
        "#example 2 by hand\n",
        "p = 5000\n",
        "r = 0.05\n",
        "t = 6\n",
        "\n",
        "simple_interest = p*r*t\n",
        "simple_interest"
      ],
      "execution_count": 2,
      "outputs": [
        {
          "output_type": "execute_result",
          "data": {
            "text/plain": [
              "1500.0"
            ]
          },
          "metadata": {
            "tags": []
          },
          "execution_count": 2
        }
      ]
    },
    {
      "cell_type": "code",
      "metadata": {
        "id": "TQctzI_xwBRy",
        "colab_type": "code",
        "colab": {
          "base_uri": "https://localhost:8080/",
          "height": 34
        },
        "outputId": "e39094e6-eef6-4ad5-a54f-88ffd6c89846"
      },
      "source": [
        "#writing a lambda function\n",
        "simple_interest = lambda p,r,t: (p*r*t)\n",
        "simple_interest(4000, 0.045, 3)\n"
      ],
      "execution_count": 3,
      "outputs": [
        {
          "output_type": "execute_result",
          "data": {
            "text/plain": [
              "540.0"
            ]
          },
          "metadata": {
            "tags": []
          },
          "execution_count": 3
        }
      ]
    },
    {
      "cell_type": "code",
      "metadata": {
        "id": "OWVeMvo2w5Vn",
        "colab_type": "code",
        "colab": {
          "base_uri": "https://localhost:8080/",
          "height": 34
        },
        "outputId": "6acd0dc7-2a42-492a-dadc-67d2d6c03302"
      },
      "source": [
        "#second example using lamda\n",
        "simple_interest(5000, 0.05, 6)"
      ],
      "execution_count": 4,
      "outputs": [
        {
          "output_type": "execute_result",
          "data": {
            "text/plain": [
              "1500.0"
            ]
          },
          "metadata": {
            "tags": []
          },
          "execution_count": 4
        }
      ]
    },
    {
      "cell_type": "markdown",
      "metadata": {
        "id": "2JzuCLROxR6w",
        "colab_type": "text"
      },
      "source": [
        "The lambda function produces the same output as the examples that I worked by hand."
      ]
    },
    {
      "cell_type": "code",
      "metadata": {
        "id": "by6-mXBjxchD",
        "colab_type": "code",
        "colab": {}
      },
      "source": [
        "#converting lambda to def function\n",
        "def simple_interest (p, r, t):\n",
        "    output = (p*r*t)\n",
        "    return output\n"
      ],
      "execution_count": 5,
      "outputs": []
    },
    {
      "cell_type": "code",
      "metadata": {
        "id": "NGY23YWkxdUF",
        "colab_type": "code",
        "colab": {}
      },
      "source": [
        "#adding a doc string and test cases\n",
        "def simple_interest (p, r, t):\n",
        "    \"\"\"\n",
        "    this function computes simple interest.\n",
        "    p = principal\n",
        "    r = rate (the rate has been converted from a percentage to a normal number)\n",
        "     t = time\n",
        "   \"\"\"\n",
        "    output = (p*r*t)\n",
        "    return output\n",
        "\n",
        "def test_simple_interest():\n",
        "    assert simple_interest(4000, 0.045, 3) == 540.0\n",
        "    assert simple_interest(5000, 0.05, 6) == 1500.0\n",
        "    assert simple_interest(8000, 0.02, 2) == 320.0\n",
        "test_simple_interest() # no output is golden"
      ],
      "execution_count": 6,
      "outputs": []
    },
    {
      "cell_type": "markdown",
      "metadata": {
        "id": "EBmfBSZqziLr",
        "colab_type": "text"
      },
      "source": [
        "The above function works great."
      ]
    },
    {
      "cell_type": "markdown",
      "metadata": {
        "id": "9gZMpI-NuXUU",
        "colab_type": "text"
      },
      "source": [
        "#### Problem 2 -- Apply the process to create a compound interest functions."
      ]
    },
    {
      "cell_type": "code",
      "metadata": {
        "id": "wJudNdjsuXUV",
        "colab_type": "code",
        "colab": {
          "base_uri": "https://localhost:8080/",
          "height": 34
        },
        "outputId": "e1f9384c-658d-408d-cc4e-9c87120edbfd"
      },
      "source": [
        "#firsr step, working an example by hand \n",
        "p = 5000\n",
        "r = 0.05\n",
        "t = 10\n",
        "n = 12\n",
        "\n",
        "amount = round(p * (1 + r/n)**(n*t),2)\n",
        "amount\n"
      ],
      "execution_count": 7,
      "outputs": [
        {
          "output_type": "execute_result",
          "data": {
            "text/plain": [
              "8235.05"
            ]
          },
          "metadata": {
            "tags": []
          },
          "execution_count": 7
        }
      ]
    },
    {
      "cell_type": "code",
      "metadata": {
        "id": "zCbctMha7Hjm",
        "colab_type": "code",
        "colab": {
          "base_uri": "https://localhost:8080/",
          "height": 34
        },
        "outputId": "be2f03aa-d14b-4736-db29-a9d84e6cf395"
      },
      "source": [
        "#second example\n",
        "p = 8000\n",
        "r = 0.025\n",
        "t = 10\n",
        "n = 10\n",
        "\n",
        "amount = round(p * (1 + r/n)**(n*t),2)\n",
        "amount\n"
      ],
      "execution_count": 8,
      "outputs": [
        {
          "output_type": "execute_result",
          "data": {
            "text/plain": [
              "10269.0"
            ]
          },
          "metadata": {
            "tags": []
          },
          "execution_count": 8
        }
      ]
    },
    {
      "cell_type": "code",
      "metadata": {
        "id": "NJ06wtji7fWN",
        "colab_type": "code",
        "colab": {
          "base_uri": "https://localhost:8080/",
          "height": 34
        },
        "outputId": "7f546bc7-a198-4c65-dec4-cc826797e97a"
      },
      "source": [
        "#creating a lambda function\n",
        "amount = lambda p,r,t,n : (round(p * (1 + r/n)**(n*t),2))\n",
        "amount(8000, 0.025, 10, 10)"
      ],
      "execution_count": 9,
      "outputs": [
        {
          "output_type": "execute_result",
          "data": {
            "text/plain": [
              "10269.0"
            ]
          },
          "metadata": {
            "tags": []
          },
          "execution_count": 9
        }
      ]
    },
    {
      "cell_type": "code",
      "metadata": {
        "id": "w2w_CBYk74NZ",
        "colab_type": "code",
        "colab": {
          "base_uri": "https://localhost:8080/",
          "height": 34
        },
        "outputId": "946d8b3d-1955-4978-9a43-46ee8ddde03f"
      },
      "source": [
        "#testing it once more\n",
        "amount(5000, 0.05, 10, 12)"
      ],
      "execution_count": 10,
      "outputs": [
        {
          "output_type": "execute_result",
          "data": {
            "text/plain": [
              "8235.05"
            ]
          },
          "metadata": {
            "tags": []
          },
          "execution_count": 10
        }
      ]
    },
    {
      "cell_type": "markdown",
      "metadata": {
        "id": "9rr5VcAH8H-V",
        "colab_type": "text"
      },
      "source": [
        "The lambda function for compound interest works great"
      ]
    },
    {
      "cell_type": "code",
      "metadata": {
        "id": "igy0rsL08PoO",
        "colab_type": "code",
        "colab": {}
      },
      "source": [
        "#converting the lambda function to a def function \n",
        "\n",
        "def amount (p,r,t, n):\n",
        "    output = (round(p * (1 + r/n)**(n*t),2))\n",
        "    return output"
      ],
      "execution_count": 11,
      "outputs": []
    },
    {
      "cell_type": "code",
      "metadata": {
        "id": "S-LEOMzg8sLq",
        "colab_type": "code",
        "colab": {}
      },
      "source": [
        "#adding a doc string and test cases\n",
        "def amount (p,r,t, n):\n",
        "    \"\"\"\n",
        "    this function computes compounf interest\n",
        "    p= principal\n",
        "    r = rate (the rate needs to be in decimals not percentage)\n",
        "    t = time in years\n",
        "    n = compoundinds\n",
        "    \"\"\"\n",
        "    output = (round(p * (1 + r/n)**(n*t),2))\n",
        "    return output\n",
        "\n",
        "def test_amount():\n",
        "    assert amount(5000, 0.05, 10, 12) ==8235.05\n",
        "    assert amount (8000, 0.025, 10,10) ==10269.0\n",
        "test_amount() # no output is golden"
      ],
      "execution_count": 12,
      "outputs": []
    },
    {
      "cell_type": "markdown",
      "metadata": {
        "id": "dlo3JkWx-1Yf",
        "colab_type": "text"
      },
      "source": [
        "The above function works great"
      ]
    },
    {
      "cell_type": "markdown",
      "metadata": {
        "id": "xDIqHgHKuXUZ",
        "colab_type": "text"
      },
      "source": [
        "#### Problem 3 -- Apply the process to create a amortized loan payment function."
      ]
    },
    {
      "cell_type": "code",
      "metadata": {
        "id": "qtHDwbZRHOby",
        "colab_type": "code",
        "colab": {
          "base_uri": "https://localhost:8080/",
          "height": 34
        },
        "outputId": "8f796ba0-777c-41e6-c30f-752cac4182d3"
      },
      "source": [
        "#the first example by hand\n",
        "p = 8000\n",
        "i = 0.025\n",
        "n = 10\n",
        "\n",
        "amortized = round((p*i)/ (1-(1+i)**-n), 2)\n",
        "amortized"
      ],
      "execution_count": 42,
      "outputs": [
        {
          "output_type": "execute_result",
          "data": {
            "text/plain": [
              "914.07"
            ]
          },
          "metadata": {
            "tags": []
          },
          "execution_count": 42
        }
      ]
    },
    {
      "cell_type": "code",
      "metadata": {
        "id": "etaolfg3J1rF",
        "colab_type": "code",
        "colab": {
          "base_uri": "https://localhost:8080/",
          "height": 34
        },
        "outputId": "48568d61-5166-462a-d51c-2d8e3c797725"
      },
      "source": [
        "#second example by hand\n",
        "p = 10000\n",
        "i = 0.025\n",
        "n = 10\n",
        "\n",
        "amortized = round((p*i)/ (1-(1+i)**-n), 2)\n",
        "amortized"
      ],
      "execution_count": 43,
      "outputs": [
        {
          "output_type": "execute_result",
          "data": {
            "text/plain": [
              "1142.59"
            ]
          },
          "metadata": {
            "tags": []
          },
          "execution_count": 43
        }
      ]
    },
    {
      "cell_type": "code",
      "metadata": {
        "id": "uhWPyjxrJ-Vr",
        "colab_type": "code",
        "colab": {
          "base_uri": "https://localhost:8080/",
          "height": 34
        },
        "outputId": "31534e31-e9c5-4be3-b6e3-b9ed88cda7e3"
      },
      "source": [
        "#creating a lambda function\n",
        "amortized = lambda p,i,n: round((p*i)/ (1-(1+i)**-n), 2)\n",
        "amortized(10000, 0.025, 10)"
      ],
      "execution_count": 44,
      "outputs": [
        {
          "output_type": "execute_result",
          "data": {
            "text/plain": [
              "1142.59"
            ]
          },
          "metadata": {
            "tags": []
          },
          "execution_count": 44
        }
      ]
    },
    {
      "cell_type": "code",
      "metadata": {
        "id": "BwX6thI4KZlO",
        "colab_type": "code",
        "colab": {
          "base_uri": "https://localhost:8080/",
          "height": 34
        },
        "outputId": "93a7cfb5-b353-4e96-e5f2-dc22f52b262e"
      },
      "source": [
        "# Checking on example1\n",
        "amortized(8000, 0.025,10)"
      ],
      "execution_count": 45,
      "outputs": [
        {
          "output_type": "execute_result",
          "data": {
            "text/plain": [
              "914.07"
            ]
          },
          "metadata": {
            "tags": []
          },
          "execution_count": 45
        }
      ]
    },
    {
      "cell_type": "markdown",
      "metadata": {
        "id": "16K_HruDKs-K",
        "colab_type": "text"
      },
      "source": [
        "As you can see, the lambda function provides the same output as the example workedout by hand."
      ]
    },
    {
      "cell_type": "code",
      "metadata": {
        "id": "k25mhCHyK02W",
        "colab_type": "code",
        "colab": {}
      },
      "source": [
        "#converting the lambda function to a def fucntion \n",
        "def amortized(p,i,n):\n",
        "    output = round((p*i)/ (1-(1+i)**-n), 2)\n",
        "    return output"
      ],
      "execution_count": 54,
      "outputs": []
    },
    {
      "cell_type": "code",
      "metadata": {
        "id": "k1uZfDRhLMbA",
        "colab_type": "code",
        "colab": {}
      },
      "source": [
        "#doc string and test\n",
        "def amortized(p,i,n):\n",
        "    \"\"\"\n",
        "    This function computes the amortized loan payment\n",
        "    p = ammount borrowed\n",
        "    i = interest rate per period\n",
        "    n = number of payments\n",
        "    \"\"\"\n",
        "    output = round((p*i)/ (1-(1+i)**-n), 2)\n",
        "    return output\n",
        "\n",
        "def test_amortized():\n",
        "    assert amortized(10000, 0.025, 10) == 1142.59\n",
        "    assert amortized(8000, 0.025, 10) == 914.07\n",
        "test_amortized() # no output is golden"
      ],
      "execution_count": 55,
      "outputs": []
    },
    {
      "cell_type": "markdown",
      "metadata": {
        "id": "iqaC0da-NCeN",
        "colab_type": "text"
      },
      "source": [
        "The above function works great"
      ]
    },
    {
      "cell_type": "markdown",
      "metadata": {
        "id": "HGlxBA9muXUe",
        "colab_type": "text"
      },
      "source": [
        "#### Problem 4 -- Apply the process to create a remaining balance function"
      ]
    },
    {
      "cell_type": "code",
      "metadata": {
        "id": "HGsFuPEtuXUf",
        "colab_type": "code",
        "colab": {
          "base_uri": "https://localhost:8080/",
          "height": 34
        },
        "outputId": "127e4738-2379-4df1-c93c-e926961fe88d"
      },
      "source": [
        "# first example by hand\n",
        "reg = 1000\n",
        "i = 0.025\n",
        "n = 10\n",
        "x = 5\n",
        "\n",
        "balance = round((reg* (1-(1+i)**-(n-x))/i),2)\n",
        "balance"
      ],
      "execution_count": 56,
      "outputs": [
        {
          "output_type": "execute_result",
          "data": {
            "text/plain": [
              "4645.83"
            ]
          },
          "metadata": {
            "tags": []
          },
          "execution_count": 56
        }
      ]
    },
    {
      "cell_type": "code",
      "metadata": {
        "id": "syqP97nUQgQM",
        "colab_type": "code",
        "colab": {
          "base_uri": "https://localhost:8080/",
          "height": 34
        },
        "outputId": "701dc07e-9a87-4c97-f859-887aba850a5d"
      },
      "source": [
        "#second example by hand\n",
        "reg = 10000\n",
        "i = 0.025\n",
        "n = 10\n",
        "x = 5\n",
        "\n",
        "balance = round((reg* (1-(1+i)**-(n-x))/i),2)\n",
        "balance"
      ],
      "execution_count": 57,
      "outputs": [
        {
          "output_type": "execute_result",
          "data": {
            "text/plain": [
              "46458.28"
            ]
          },
          "metadata": {
            "tags": []
          },
          "execution_count": 57
        }
      ]
    },
    {
      "cell_type": "code",
      "metadata": {
        "id": "HyvK5sPtQrEp",
        "colab_type": "code",
        "colab": {
          "base_uri": "https://localhost:8080/",
          "height": 34
        },
        "outputId": "548d1df2-776c-46a8-e61b-8e3caeee81e7"
      },
      "source": [
        "#creating a lambda function\n",
        "balance = lambda reg,i,n,x: round((reg* (1-(1+i)**-(n-x))/i),2)\n",
        "balance(1000,0.025,10, 5)"
      ],
      "execution_count": 58,
      "outputs": [
        {
          "output_type": "execute_result",
          "data": {
            "text/plain": [
              "4645.83"
            ]
          },
          "metadata": {
            "tags": []
          },
          "execution_count": 58
        }
      ]
    },
    {
      "cell_type": "code",
      "metadata": {
        "id": "z2qcEZvNRBVk",
        "colab_type": "code",
        "colab": {
          "base_uri": "https://localhost:8080/",
          "height": 34
        },
        "outputId": "c162007a-b84c-4627-c4b2-1748880d6b34"
      },
      "source": [
        "# checking for the other example\n",
        "balance(10000, 0.025, 10,5)"
      ],
      "execution_count": 59,
      "outputs": [
        {
          "output_type": "execute_result",
          "data": {
            "text/plain": [
              "46458.28"
            ]
          },
          "metadata": {
            "tags": []
          },
          "execution_count": 59
        }
      ]
    },
    {
      "cell_type": "markdown",
      "metadata": {
        "id": "IIgNuqdYRI3t",
        "colab_type": "text"
      },
      "source": [
        "As you can see, the lambda function produces the same output as the examples worked by hand"
      ]
    },
    {
      "cell_type": "code",
      "metadata": {
        "id": "Ryk8R5hMRRdh",
        "colab_type": "code",
        "colab": {}
      },
      "source": [
        "#converting lambda function to a def function \n",
        "def balance(reg, i,n,x):\n",
        "    output = round((reg* (1-(1+i)**-(n-x))/i),2)\n",
        "    return output\n"
      ],
      "execution_count": 60,
      "outputs": []
    },
    {
      "cell_type": "code",
      "metadata": {
        "id": "nvNDrOB8Rh4V",
        "colab_type": "code",
        "colab": {}
      },
      "source": [
        "# doc string and test\n",
        "def balance(reg, i,n,x):\n",
        "    \"\"\"\n",
        "    This function computes the remaing balance\n",
        "    reg = regular payment\n",
        "    i = interest rate per period\n",
        "    n = number of payments\n",
        "    x = number of payments already made\n",
        "    \"\"\"\n",
        "    output = round((reg* (1-(1+i)**-(n-x))/i),2)\n",
        "    return output\n",
        "\n",
        "def test_balance():\n",
        "    assert balance(10000, 0.025, 10, 5) == 46458.28\n",
        "    assert balance(1000, 0.025, 10, 5) == 4645.83\n",
        "test_balance() #no output is golden"
      ],
      "execution_count": 62,
      "outputs": []
    },
    {
      "cell_type": "markdown",
      "metadata": {
        "id": "ZaDSuweyTBJM",
        "colab_type": "text"
      },
      "source": [
        "the above function works great"
      ]
    }
  ]
}